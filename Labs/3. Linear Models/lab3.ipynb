{
 "cells": [
  {
   "cell_type": "markdown",
   "metadata": {},
   "source": [
    "# Машинное обучение\n",
    "## ВМК МГУ, весна 2015/2016\n",
    "## Лабораторная работа 1. Линейные модели"
   ]
  },
  {
   "cell_type": "markdown",
   "metadata": {},
   "source": [
    "ФИО: Измаилов Павел Алексеевич\n",
    "\n",
    "Группа: 317\n",
    "\n",
    "####Используемая версия python: 3 "
   ]
  },
  {
   "cell_type": "markdown",
   "metadata": {},
   "source": [
    "Данное задание посвящено применению линейных моделей в задачах классификации и регрессии. Вы научитесь:\n",
    "* делать one-hot-кодирование категориальных признаков\n",
    "* обучать логистическую и линейную регрессию\n",
    "* отбирать признаки с помощью LASSO\n",
    "* вычислять метрики качества классификации и регрессии\n",
    "* выбирать лучший классификатор при ограничениях на точность или полноту\n",
    "* калибровать вероятности\n",
    "* реализовывать градиентный спуск (если захотите)\n"
   ]
  },
  {
   "cell_type": "code",
   "execution_count": 6,
   "metadata": {
    "collapsed": true
   },
   "outputs": [],
   "source": [
    "import numpy as np\n",
    "import pandas as pd\n",
    "import matplotlib.pyplot as plt\n",
    "\n",
    "%matplotlib inline"
   ]
  },
  {
   "cell_type": "markdown",
   "metadata": {},
   "source": [
    "## Часть 1. Научные гранты в Австралии"
   ]
  },
  {
   "cell_type": "markdown",
   "metadata": {},
   "source": [
    "![](http://imgur.com/cBdDBO3.jpg)\n",
    "\n",
    "В данной части мы будем работать с задачей \"Predict Grant Applications\" (https://www.kaggle.com/c/unimelb/data), где для заявки на грант требуется предсказать, одобрят её или нет. Будем использовать лишь 40 признаков из имеющихся 249. Файлы для работы можно найти по ссылкам:\n",
    "* https://db.tt/iYzRzQYP (обучение)\n",
    "* https://db.tt/NGSHb5Qs (контроль)"
   ]
  },
  {
   "cell_type": "markdown",
   "metadata": {},
   "source": [
    "#### Задание 1\n",
    "Считайте обучающую и контрольную выборки из файлов с помощью pd.read_csv. Выделите целевую переменную (Grant.Status) в отдельный вектор."
   ]
  },
  {
   "cell_type": "code",
   "execution_count": 7,
   "metadata": {
    "collapsed": false
   },
   "outputs": [],
   "source": [
    "data_train = pd.read_csv('data/unimel_train.csv')\n",
    "data_test = pd.read_csv('data/unimel_test.csv')\n",
    "y_train = np.array(data_train['Grant.Status'])\n",
    "y_test = np.array(data_test['Grant.Status'])\n",
    "del data_train['Grant.Status']\n",
    "del data_test['Grant.Status']"
   ]
  },
  {
   "cell_type": "markdown",
   "metadata": {},
   "source": [
    "#### Задание 2\n",
    "В этом задании мы приведем данные к виду, пригодному для обучения линейных классификаторов. Для этого вещественные признаки надо отмасштабировать, а категориальные — привести к числовому виду. Также надо устранить пропуски в данных."
   ]
  },
  {
   "cell_type": "markdown",
   "metadata": {},
   "source": [
    "В первую очередь поймем, зачем здесь нужно масштабирование. Нарисуем распределение трех признаков."
   ]
  },
  {
   "cell_type": "code",
   "execution_count": 8,
   "metadata": {
    "collapsed": false
   },
   "outputs": [
    {
     "data": {
      "text/plain": [
       "<matplotlib.axes._subplots.AxesSubplot at 0x108b4acc0>"
      ]
     },
     "execution_count": 8,
     "metadata": {},
     "output_type": "execute_result"
    },
    {
     "data": {
      "image/png": "[encoded data removed]",
      "text/plain": [
       "<matplotlib.figure.Figure at 0x10975acc0>"
      ]
     },
     "metadata": {},
     "output_type": "display_data"
    }
   ],
   "source": [
    "data_train['Number.of.Successful.Grant.1'].hist(bins=20)"
   ]
  },
  {
   "cell_type": "code",
   "execution_count": 9,
   "metadata": {
    "collapsed": false
   },
   "outputs": [
    {
     "data": {
      "text/plain": [
       "<matplotlib.axes._subplots.AxesSubplot at 0x1087417f0>"
      ]
     },
     "execution_count": 9,
     "metadata": {},
     "output_type": "execute_result"
    },
    {
     "data": {
      "image/png": "[encoded data removed]",
      "text/plain": [
       "<matplotlib.figure.Figure at 0x109f11128>"
      ]
     },
     "metadata": {},
     "output_type": "display_data"
    }
   ],
   "source": [
    "data_train['RFCD.Percentage.1'].hist(bins=20)"
   ]
  },
  {
   "cell_type": "code",
   "execution_count": 10,
   "metadata": {
    "collapsed": false
   },
   "outputs": [
    {
     "data": {
      "text/plain": [
       "<matplotlib.axes._subplots.AxesSubplot at 0x109fa5438>"
      ]
     },
     "execution_count": 10,
     "metadata": {},
     "output_type": "execute_result"
    },
    {
     "data": {
      "image/png": "[encoded data removed]",
      "text/plain": [
       "<matplotlib.figure.Figure at 0x109f70eb8>"
      ]
     },
     "metadata": {},
     "output_type": "display_data"
    }
   ],
   "source": [
    "data_train['Year.of.Birth.1'].hist(bins=20)"
   ]
  },
  {
   "cell_type": "markdown",
   "metadata": {},
   "source": [
    "Какую проблему вы наблюдаете на этих графиках? Как масштабирование поможет её исправить?"
   ]
  },
  {
   "cell_type": "markdown",
   "metadata": {},
   "source": [
    "Выделенные признаки принимают значения в разных шкалах. Если их не нормализовать, то скорость сходимости градиентных методов оптимизации будет низкой."
   ]
  },
  {
   "cell_type": "markdown",
   "metadata": {},
   "source": [
    "В наших данных есть пропуски. Ответьте на вопросы:\n",
    "1. Сколько всего пропущенных элементов в таблице с обучающей выборкой?\n",
    "2. Сколько объектов имеют хотя бы один пропуск?\n",
    "3. Сколько признаков имеют хотя бы одно пропущенное значение?"
   ]
  },
  {
   "cell_type": "code",
   "execution_count": 11,
   "metadata": {
    "collapsed": false
   },
   "outputs": [
    {
     "name": "stdout",
     "output_type": "stream",
     "text": [
      "Всего пропусков в данных 26843 .\n",
      "Объектов, имеющих хотя бы одно пропущенное значение 5879 .\n",
      "Признаокв, имеющих хотя бы одно пропущенное значение 38 .\n"
     ]
    }
   ],
   "source": [
    "print('Всего пропусков в данных', data_train.isnull().sum().sum(), '.')\n",
    "print('Объектов, имеющих хотя бы одно пропущенное значение', (data_train.isnull().sum(axis=1) > 0).sum(), '.')\n",
    "print('Признаокв, имеющих хотя бы одно пропущенное значение', (data_train.isnull().sum(axis=0) > 0).sum(), '.')"
   ]
  },
  {
   "cell_type": "markdown",
   "metadata": {},
   "source": [
    "Большинство признаков в нашем датасете являются категориальными. Типичным подходом к работе с ними является бинарное, или one-hot-кодирование (также есть подход со счётчиками, который мы уже применяли в прошлых работах). Для начала потренируемся делать бинарное кодирование на трех игрушечных объектах."
   ]
  },
  {
   "cell_type": "code",
   "execution_count": 12,
   "metadata": {
    "collapsed": false
   },
   "outputs": [
    {
     "data": {
      "text/html": [
       "<div>\n",
       "<table border=\"1\" class=\"dataframe\">\n",
       "  <thead>\n",
       "    <tr style=\"text-align: right;\">\n",
       "      <th></th>\n",
       "      <th>City</th>\n",
       "      <th>Weather</th>\n",
       "    </tr>\n",
       "  </thead>\n",
       "  <tbody>\n",
       "    <tr>\n",
       "      <th>0</th>\n",
       "      <td>Msk</td>\n",
       "      <td>good</td>\n",
       "    </tr>\n",
       "    <tr>\n",
       "      <th>1</th>\n",
       "      <td>SPb</td>\n",
       "      <td>bad</td>\n",
       "    </tr>\n",
       "    <tr>\n",
       "      <th>2</th>\n",
       "      <td>Msk</td>\n",
       "      <td>worst</td>\n",
       "    </tr>\n",
       "  </tbody>\n",
       "</table>\n",
       "</div>"
      ],
      "text/plain": [
       "  City Weather\n",
       "0  Msk    good\n",
       "1  SPb     bad\n",
       "2  Msk   worst"
      ]
     },
     "execution_count": 12,
     "metadata": {},
     "output_type": "execute_result"
    }
   ],
   "source": [
    "simple_data = pd.DataFrame({'City': ['Msk', 'SPb', 'Msk'], 'Weather': ['good', 'bad', 'worst']})\n",
    "simple_data.head()"
   ]
  },
  {
   "cell_type": "code",
   "execution_count": 13,
   "metadata": {
    "collapsed": false
   },
   "outputs": [
    {
     "name": "stdout",
     "output_type": "stream",
     "text": [
      "dict_values([{'City': 'Msk', 'Weather': 'good'}, {'City': 'SPb', 'Weather': 'bad'}, {'City': 'Msk', 'Weather': 'worst'}])\n"
     ]
    }
   ],
   "source": [
    "# преобразуем каждый объект в dict\n",
    "simple_data_dict = simple_data.T.to_dict().values()\n",
    "print(simple_data_dict)"
   ]
  },
  {
   "cell_type": "code",
   "execution_count": 14,
   "metadata": {
    "collapsed": false
   },
   "outputs": [
    {
     "name": "stdout",
     "output_type": "stream",
     "text": [
      "[[ 1.  0.  0.  1.  0.]\n",
      " [ 0.  1.  1.  0.  0.]\n",
      " [ 1.  0.  0.  0.  1.]]\n"
     ]
    }
   ],
   "source": [
    "# делаем one-hot-кодирование\n",
    "from sklearn.feature_extraction import DictVectorizer\n",
    "transformer = DictVectorizer(sparse=False)\n",
    "# примените здесь DictVectorizer к simple_data_dict, получите бинарную матрицу и выведите её\n",
    "encoded_data = transformer.fit_transform(simple_data_dict)\n",
    "print(encoded_data)"
   ]
  },
  {
   "cell_type": "markdown",
   "metadata": {},
   "source": [
    "Реализуйте функцию transform_data, которая принимает на вход DataFrame с признаками, объекты классов StandardScaler и DictVectorizer и булеву переменную is_test (True, если обрабатывает тестовую выборку и False, если обучающую). В функции должны выполняться следующие шаги:\n",
    "1. Замена пропущенных значений на нули для вещественных признаков и на строки 'nan' для категориальных. Используйте для выполнения замены функцию fillna. Имена всех вещественных переменных перечислены в numeric_cols.\n",
    "2. Масштабирование вещественных признаков с помощью StandardScaler (метод fit_transform, если is_test == False, и метод transform в противном случае).\n",
    "3. One-hot-кодирование категориальных признаков с помощью DictVectorizer (метод fit_transform, если is_test == False, и метод transform в противном случае).\n",
    "\n",
    "Метод должен возвращать tuple из трех элементов: преобразованной выборки, объекта StandardScaler и объекта DictVectorizer. Преобразованная выборка должна состоять из масштабированных вещественных признаков и закодированных категориальных (исходные признаки не должны в ней остаться)."
   ]
  },
  {
   "cell_type": "code",
   "execution_count": 15,
   "metadata": {
    "collapsed": false
   },
   "outputs": [],
   "source": [
    "numeric_cols = ['RFCD.Percentage.1', 'RFCD.Percentage.2', 'RFCD.Percentage.3', \n",
    "                    'RFCD.Percentage.4', 'RFCD.Percentage.5',\n",
    "                    'SEO.Percentage.1', 'SEO.Percentage.2', 'SEO.Percentage.3',\n",
    "                    'SEO.Percentage.4', 'SEO.Percentage.5',\n",
    "                    'Year.of.Birth.1', 'Number.of.Successful.Grant.1', 'Number.of.Unsuccessful.Grant.1']\n",
    "categorical_cols = data_train.columns.values.tolist()\n",
    "categorical_cols = [col for col in categorical_cols if not(col in numeric_cols)]\n",
    "example = data_train[categorical_cols].fillna('nan')\n",
    "ex_dict = example.T.to_dict().values()"
   ]
  },
  {
   "cell_type": "code",
   "execution_count": 16,
   "metadata": {
    "collapsed": false
   },
   "outputs": [],
   "source": [
    "def transform_data(data, scaler, transformer, is_test, scale=True):\n",
    "    numeric_cols = ['RFCD.Percentage.1', 'RFCD.Percentage.2', 'RFCD.Percentage.3', \n",
    "                    'RFCD.Percentage.4', 'RFCD.Percentage.5',\n",
    "                    'SEO.Percentage.1', 'SEO.Percentage.2', 'SEO.Percentage.3',\n",
    "                    'SEO.Percentage.4', 'SEO.Percentage.5',\n",
    "                    'Year.of.Birth.1', 'Number.of.Successful.Grant.1', 'Number.of.Unsuccessful.Grant.1']\n",
    "    categorical_cols = data.columns.values.tolist()\n",
    "    categorical_cols = [col for col in categorical_cols if not(col in numeric_cols)]\n",
    "    data[numeric_cols] = data[numeric_cols].fillna(0)\n",
    "    data = data.fillna('nan')\n",
    "    data[categorical_cols] = data[categorical_cols].astype(str)\n",
    "    if is_test:\n",
    "        if scale:\n",
    "            new_features = scaler.transform(data[numeric_cols])\n",
    "        else:\n",
    "            new_features = data[numeric_cols]\n",
    "        categorical_features = transformer.transform(data[categorical_cols].T.to_dict().values()).toarray()\n",
    "        new_features = np.hstack((new_features, categorical_features))\n",
    "    else:\n",
    "        if scale:\n",
    "            new_features = scaler.fit_transform(data[numeric_cols])\n",
    "        else:\n",
    "            new_features = data[numeric_cols]\n",
    "        categorical_features = transformer.fit_transform(data[categorical_cols].T.to_dict().values()).toarray()\n",
    "        new_features = np.hstack((new_features, categorical_features))\n",
    "    return new_features, scaler, transformer\n",
    "    "
   ]
  },
  {
   "cell_type": "markdown",
   "metadata": {},
   "source": [
    "Применяем функцию к данным:"
   ]
  },
  {
   "cell_type": "code",
   "execution_count": 17,
   "metadata": {
    "collapsed": false
   },
   "outputs": [],
   "source": [
    "from sklearn.preprocessing import StandardScaler\n",
    "scaler = StandardScaler()\n",
    "transformer = DictVectorizer()\n",
    "X, scaler, transformer = transform_data(data_train, scaler, transformer, False)\n",
    "X_test, _, _ = transform_data(data_test, scaler, transformer, True)"
   ]
  },
  {
   "cell_type": "markdown",
   "metadata": {},
   "source": [
    "Сколько признаков у вас получилось после преобразования?"
   ]
  },
  {
   "cell_type": "code",
   "execution_count": 18,
   "metadata": {
    "collapsed": false
   },
   "outputs": [
    {
     "name": "stdout",
     "output_type": "stream",
     "text": [
      "11734\n"
     ]
    }
   ],
   "source": [
    "print(X.shape[1])"
   ]
  },
  {
   "cell_type": "markdown",
   "metadata": {},
   "source": [
    "#### Задание 3\n",
    "Подберите лучшее значение параметра регуляризации C для логистической регрессии с L2-регуляризатором (sklearn.linear_model.LogisticRegression) с помощью кросс-валидации по 5 блокам. В качестве метрики качества используйте AUC-ROC. Сетка для перебора указана ниже. По итогам кросс-валидации укажите лучшее значение параметра регуляризации. Обучите классификатор с этим параметром на всей обучающей выборке и найдите качество (AUC-ROC) на тестовой выборке."
   ]
  },
  {
   "cell_type": "code",
   "execution_count": 19,
   "metadata": {
    "collapsed": false
   },
   "outputs": [],
   "source": [
    "from sklearn.cross_validation import KFold\n",
    "cv = KFold(X.shape[0], n_folds=5, shuffle=True, random_state=241)"
   ]
  },
  {
   "cell_type": "code",
   "execution_count": 20,
   "metadata": {
    "collapsed": false
   },
   "outputs": [
    {
     "name": "stdout",
     "output_type": "stream",
     "text": [
      "Лучшее значение параметра регуляризации: 0.1\n",
      "ROC-AUC на тестовой выборке:  0.880340804287\n"
     ]
    }
   ],
   "source": [
    "# вам пригодятся функции cross_val_score или GridSearchCV; используйте в них объект cv в качестве генератора разбиений\n",
    "from sklearn.linear_model import LogisticRegression\n",
    "from sklearn.grid_search import GridSearchCV\n",
    "from sklearn.metrics import roc_auc_score\n",
    "\n",
    "C_grid = [0.001, 0.01, 0.1, 1.0, 10.0, 100.0]\n",
    "logreg = LogisticRegression()\n",
    "params = {'C': C_grid}\n",
    "clf = GridSearchCV(logreg, params, scoring='roc_auc')\n",
    "clf.fit(X, y_train)\n",
    "best_estimator = clf.best_estimator_\n",
    "\n",
    "print('Лучшее значение параметра регуляризации:', best_estimator.get_params()['C'])\n",
    "\n",
    "best_estimator.fit(X, y_train)\n",
    "predicted_y = best_estimator.predict_proba(X_test)[:, 1]\n",
    "print('ROC-AUC на тестовой выборке: ', roc_auc_score(y_test, predicted_y))"
   ]
  },
  {
   "cell_type": "markdown",
   "metadata": {},
   "source": [
    "Попробуем теперь логистическую регрессию с L1-регуляризатором (penalty='l1'). Выведите число ненулевых коэффициентов (clf.coef\\_) при каждом значении параметра регуляризации из сетки."
   ]
  },
  {
   "cell_type": "code",
   "execution_count": 21,
   "metadata": {
    "collapsed": false
   },
   "outputs": [
    {
     "data": {
      "text/html": [
       "<table max-width=100%><tr><td>C</td><td>Число ненулевых коэффициентов</td></tr><tr><td>0.001</td><td>0</td></tr><tr><td>0.01</td><td>9</td></tr><tr><td>0.1</td><td>58</td></tr><tr><td>1.0</td><td>667</td></tr><tr><td>10.0</td><td>2460</td></tr><tr><td>100.0</td><td>2870</td></tr></table>"
      ],
      "text/plain": [
       "[('C', 'Число ненулевых коэффициентов'),\n",
       " (0.001, 0),\n",
       " (0.01, 9),\n",
       " (0.1, 58),\n",
       " (1.0, 667),\n",
       " (10.0, 2460),\n",
       " (100.0, 2870)]"
      ]
     },
     "execution_count": 21,
     "metadata": {},
     "output_type": "execute_result"
    }
   ],
   "source": [
    "class ListTable(list):\n",
    "    def _repr_html_(self):\n",
    "        html = [\"<table max-width=100%>\"]\n",
    "        for elem in self:\n",
    "            html.append(\"<tr>\")\n",
    "            html.append(\"<td>{0}</td>\".format(elem[0]))\n",
    "            html.append(\"<td>{0}</td>\".format(elem[1]))\n",
    "            html.append(\"</tr>\")\n",
    "        html.append(\"</table>\")\n",
    "        return ''.join(html)\n",
    "    \n",
    "table = [('C', 'Число ненулевых коэффициентов')]\n",
    "for C in C_grid:\n",
    "    logreg = LogisticRegression(penalty='l1', C=C)\n",
    "    logreg.fit(X, y_train)\n",
    "    table.append((C, np.sum(logreg.coef_ != 0)))\n",
    "ListTable(table)"
   ]
  },
  {
   "cell_type": "markdown",
   "metadata": {},
   "source": [
    "Какое качество на тесте даёт логистическая регрессия с L1-регуляризатором с параметром C=0.01? Сколько для достижения такого качества ей нужно признаков?"
   ]
  },
  {
   "cell_type": "code",
   "execution_count": 22,
   "metadata": {
    "collapsed": false
   },
   "outputs": [
    {
     "name": "stdout",
     "output_type": "stream",
     "text": [
      "ROC-AUC на тестовой выборке:  0.852546744568\n",
      "Для получения такого качества оказалось достаточно 9 признаков.\n"
     ]
    }
   ],
   "source": [
    "logreg = LogisticRegression(penalty='l1', C=0.01)\n",
    "logreg.fit(X, y_train)\n",
    "predicted_y = logreg.predict_proba(X_test)[:, 1]\n",
    "print('ROC-AUC на тестовой выборке: ', roc_auc_score(y_test, predicted_y))\n",
    "print('Для получения такого качества оказалось достаточно 9 признаков.')"
   ]
  },
  {
   "cell_type": "markdown",
   "metadata": {},
   "source": [
    "#### Задание 4\n",
    "В этом задании мы внимательно рассмотрим различные аспекты качества классификатора. Для этого возьмите классификатор с L2-регуляризатором с лучшим значением параметра регуляризации (вы его нашли в предыдущем задании), обучите на полной обучающей выборке и найдите предсказания вероятностей на тесте. Далее будем работать только с этими прогнозами."
   ]
  },
  {
   "cell_type": "code",
   "execution_count": 23,
   "metadata": {
    "collapsed": false
   },
   "outputs": [],
   "source": [
    "logreg = LogisticRegression(C=0.1)\n",
    "logreg.fit(X, y_train)\n",
    "predicted_y = best_estimator.predict_proba(X_test)[:, 1]"
   ]
  },
  {
   "cell_type": "markdown",
   "metadata": {},
   "source": [
    "Посчитайте AUC-ROC, AUC-PR (average_precision_score) и log-loss для прогнозов."
   ]
  },
  {
   "cell_type": "code",
   "execution_count": 24,
   "metadata": {
    "collapsed": false
   },
   "outputs": [
    {
     "data": {
      "text/html": [
       "<table max-width=100%><tr><td>ROC-AUC</td><td>0.8803408042872678</td></tr><tr><td>AUC-PR</td><td>0.8387493987323461</td></tr><tr><td>Log-loss</td><td>0.4427420368281853</td></tr></table>"
      ],
      "text/plain": [
       "[('ROC-AUC', 0.8803408042872678),\n",
       " ('AUC-PR', 0.83874939873234611),\n",
       " ('Log-loss', 0.4427420368281853)]"
      ]
     },
     "execution_count": 24,
     "metadata": {},
     "output_type": "execute_result"
    }
   ],
   "source": [
    "from sklearn.metrics import roc_auc_score, average_precision_score, log_loss\n",
    "table = [('ROC-AUC', roc_auc_score(y_test, predicted_y))]\n",
    "table.append(('AUC-PR', average_precision_score(y_test, predicted_y)))\n",
    "table.append(('Log-loss', log_loss(y_test, predicted_y)))\n",
    "ListTable(table)"
   ]
  },
  {
   "cell_type": "markdown",
   "metadata": {},
   "source": [
    "Нарисуйте ROC- и PR-кривые. Не забудьте подписать оси."
   ]
  },
  {
   "cell_type": "code",
   "execution_count": 25,
   "metadata": {
    "collapsed": false
   },
   "outputs": [
    {
     "data": {
      "image/png": "[encoded data removed]",
      "text/plain": [
       "<matplotlib.figure.Figure at 0x10d7bbe10>"
      ]
     },
     "metadata": {},
     "output_type": "display_data"
    },
    {
     "data": {
      "image/png": "[encoded data removed]",
      "text/plain": [
       "<matplotlib.figure.Figure at 0x10d7bbdd8>"
      ]
     },
     "metadata": {},
     "output_type": "display_data"
    }
   ],
   "source": [
    "from sklearn.metrics import roc_curve, precision_recall_curve\n",
    "fpr, tpr, thresholds_roc = roc_curve(y_test, predicted_y)\n",
    "plt.plot(fpr, tpr)\n",
    "plt.ylabel('True Positive Rate')\n",
    "plt.xlabel('False Positive Rate')\n",
    "plt.title('ROC-curve')\n",
    "plt.show()\n",
    "precision, recall, thresholds_pr = precision_recall_curve(y_test, predicted_y)\n",
    "plt.plot(recall, precision)\n",
    "plt.ylabel('Precision')\n",
    "plt.xlabel('Recall')\n",
    "plt.title('Precision-Recall Curve')\n",
    "plt.show()"
   ]
  },
  {
   "cell_type": "markdown",
   "metadata": {},
   "source": [
    "Допустим, мы хотим построить классификатор, который будет находить не менее 90% успешных грантов. Соответственно, имеем нижнюю границу 90% на полноту. Какую максимальную точность при этом можно получить? При каком значении порога? Для получения ответа проанализируйте массивы, возвращаемые функцией metrics.precision_recall_curve."
   ]
  },
  {
   "cell_type": "code",
   "execution_count": 26,
   "metadata": {
    "collapsed": false
   },
   "outputs": [
    {
     "name": "stdout",
     "output_type": "stream",
     "text": [
      "Наибольшая возможная точность 0.701754385965 при данном ограничении на полноту\n",
      "достигается при пороге 0.315451906769.\n"
     ]
    }
   ],
   "source": [
    "print('Наибольшая возможная точность', precision[len(recall[recall > 0.9])], 'при данном ограничении на полноту')\n",
    "print('достигается при пороге', thresholds_pr[len(recall[recall > 0.9])],  end=\"\")\n",
    "print('.')"
   ]
  },
  {
   "cell_type": "markdown",
   "metadata": {},
   "source": [
    "Возьмите классификатор с порогом из предыдущего пункта и подсчитайте для него F-меру. Почему она получилась маленькой, несмотря на высокую полноту?"
   ]
  },
  {
   "cell_type": "code",
   "execution_count": 27,
   "metadata": {
    "collapsed": false
   },
   "outputs": [
    {
     "name": "stdout",
     "output_type": "stream",
     "text": [
      "F-мера: 0.788321167883\n",
      "F-мера — гармоническое среднее полноты и точности. Так как точность при выбранном пороге\n",
      "низка (0.7), то и F-мера не слишком высока.\n"
     ]
    }
   ],
   "source": [
    "opt_precision = precision[len(recall[recall > 0.9])]\n",
    "opt_recall = recall[len(recall[recall > 0.9])]\n",
    "F_measure = 2 * (opt_precision * opt_recall) / (opt_precision + opt_recall)\n",
    "print('F-мера:', F_measure)\n",
    "print('F-мера — гармоническое среднее полноты и точности. Так как точность при выбранном пороге')\n",
    "print('низка (0.7), то и F-мера не слишком высока.')"
   ]
  },
  {
   "cell_type": "markdown",
   "metadata": {},
   "source": [
    "Допустим, что университету важно подавать как можно меньше заявок, которые окажутся неуспешными — они очень плохо влияют на репутацию. Установим нижнюю границу на точность 80%. Какую максимальную полноту при этом можно обеспечить? При каком пороге?"
   ]
  },
  {
   "cell_type": "code",
   "execution_count": 28,
   "metadata": {
    "collapsed": false
   },
   "outputs": [
    {
     "name": "stdout",
     "output_type": "stream",
     "text": [
      "Максимальная полнота  0.8759367194 при данном ограничении на точность\n",
      "достигается при пороге 0.359109087236.\n"
     ]
    }
   ],
   "source": [
    "print('Максимальная полнота ', recall[len(precision[precision > 0.8])], 'при данном ограничении на точность')\n",
    "print('достигается при пороге', thresholds_pr[len(precision[precision > 0.8])],  end=\"\")\n",
    "print('.')"
   ]
  },
  {
   "cell_type": "markdown",
   "metadata": {},
   "source": [
    "#### Задание 5\n",
    "В этом задании мы научимся оценивать способность классификатора предсказывать вероятности, а также разберемся с калибровкой.\n",
    "\n",
    "Начнем с калибровочных кривых. Допустим, алгоритм возвращает некоторые числа от нуля до единицы. Хорошо ли они оценивают вероятность? Для этого разобьем отрезок $[0, 1]$ на несколько маленьких отрезков одинаковой длины. Рассмотрим $i$-й отрезок с границами $[a_i, b_i]$ и предсказания $p_1, p_2, \\dots, p_k$, которые попали в него. Пусть им соответствуют истинные ответы $y_1, y_2, \\dots, y_k$. Если алгоритм выдает корректные вероятности, то среди этих истинных ответов должно быть примерно $(a_i + b_i) / 2$ единиц. Иными словами, если нарисовать кривую, у которой по оси X отложены центры отрезков, а по оси Y — доли единичных ответов этих в отрезках, то она должна оказаться диагональной. Ниже приведена функция, которая должна рисовать такие кривые. В ней допущено две ошибки — найдите и исправьте их."
   ]
  },
  {
   "cell_type": "code",
   "execution_count": 29,
   "metadata": {
    "collapsed": true
   },
   "outputs": [],
   "source": [
    "def plot_calibration_curve(y_test, preds):\n",
    "    bin_middle_points = []\n",
    "    bin_real_ratios = []\n",
    "    n_bins = 20\n",
    "    for i in range(n_bins):\n",
    "        l = 1.0 / n_bins * i\n",
    "        r = 1.0 / n_bins * (i + 1)\n",
    "        bin_middle_points.append((l + r) / 2)\n",
    "        bin_real_ratios.append(np.mean(y_test[(preds >= l) & (preds < r)] == 1))\n",
    "    plt.plot(bin_middle_points, bin_real_ratios)"
   ]
  },
  {
   "cell_type": "markdown",
   "metadata": {},
   "source": [
    "Проверим её работу на логистической регрессии (поменяйте имена переменных, если это необходимо). Получилась ли почти диагональная калибровочная кривая?"
   ]
  },
  {
   "cell_type": "code",
   "execution_count": 30,
   "metadata": {
    "collapsed": false
   },
   "outputs": [
    {
     "data": {
      "image/png": "[encoded data removed]",
      "text/plain": [
       "<matplotlib.figure.Figure at 0x10cb98fd0>"
      ]
     },
     "metadata": {},
     "output_type": "display_data"
    }
   ],
   "source": [
    "clf = LogisticRegression(C=1.0)\n",
    "clf.fit(X, y_train)\n",
    "preds = clf.predict_proba(X_test)[:, 1]\n",
    "plot_calibration_curve(y_test, preds)"
   ]
  },
  {
   "cell_type": "markdown",
   "metadata": {},
   "source": [
    "Заодно обратим внимание на то, как часто классификатор выдает те или иные вероятности."
   ]
  },
  {
   "cell_type": "code",
   "execution_count": 31,
   "metadata": {
    "collapsed": false
   },
   "outputs": [
    {
     "data": {
      "image/png": "[encoded data removed]",
      "text/plain": [
       "<matplotlib.figure.Figure at 0x108ca49e8>"
      ]
     },
     "metadata": {},
     "output_type": "display_data"
    }
   ],
   "source": [
    "plt.hist(preds, bins=20)\n",
    "plt.show()"
   ]
  },
  {
   "cell_type": "markdown",
   "metadata": {},
   "source": [
    "Обучим теперь классификатор с кусочно-линейной функцией потерь (hinge loss, как в SVM)."
   ]
  },
  {
   "cell_type": "code",
   "execution_count": 32,
   "metadata": {
    "collapsed": true
   },
   "outputs": [],
   "source": [
    "from sklearn.linear_model import SGDClassifier\n",
    "clf = SGDClassifier(loss='hinge')\n",
    "clf.fit(X, y_train)\n",
    "preds = clf.decision_function(X_test)\n",
    "preds = 1.0 / (1.0 + np.exp(-preds))"
   ]
  },
  {
   "cell_type": "markdown",
   "metadata": {},
   "source": [
    "Изучите распределение ответов классификатора. Чем оно отличается от распределения у логистической регрессии? Чем вы можете объяснить это?"
   ]
  },
  {
   "cell_type": "code",
   "execution_count": 33,
   "metadata": {
    "collapsed": false
   },
   "outputs": [
    {
     "data": {
      "image/png": "[encoded data removed]",
      "text/plain": [
       "<matplotlib.figure.Figure at 0x108c7b748>"
      ]
     },
     "metadata": {},
     "output_type": "display_data"
    },
    {
     "name": "stdout",
     "output_type": "stream",
     "text": [
      "Распределение ответов отличается от распределения ответов для логисчтической регрессии.\n",
      "Данный классификатор почти всегда выдает ответы близкие к 0 или к 1.\n",
      "Это можно объяснить тем, что данный метод меньше штрафует за большую уверенность в неправильном\n",
      "ответе, чем логистическая регрессия (потому что hinge loss меньше логистической функции при \n",
      "больших отрицательных значениях). Поэтому данный метод реже \"сомневается\" в своих предсказаниях.\n"
     ]
    }
   ],
   "source": [
    "plt.hist(preds, bins=20)\n",
    "plt.show()\n",
    "print('Распределение ответов отличается от распределения ответов для логисчтической регрессии.')\n",
    "print('Данный классификатор почти всегда выдает ответы близкие к 0 или к 1.')\n",
    "print('Это можно объяснить тем, что данный метод меньше штрафует за большую уверенность в неправильном')\n",
    "print('ответе, чем логистическая регрессия (потому что hinge loss меньше логистической функции при ')\n",
    "print('больших отрицательных значениях). Поэтому данный метод реже \"сомневается\" в своих предсказаниях.')"
   ]
  },
  {
   "cell_type": "markdown",
   "metadata": {},
   "source": [
    "Нарисуем калибровочную кривую. Видите ли вы какие-либо проблемы в ней?"
   ]
  },
  {
   "cell_type": "code",
   "execution_count": 34,
   "metadata": {
    "collapsed": false
   },
   "outputs": [
    {
     "data": {
      "image/png": "[encoded data removed]",
      "text/plain": [
       "<matplotlib.figure.Figure at 0x10be55f28>"
      ]
     },
     "metadata": {},
     "output_type": "display_data"
    },
    {
     "name": "stdout",
     "output_type": "stream",
     "text": [
      "Калибровочная гривая сильно отличается от диагональной, имеет пилообразный вид.\n"
     ]
    }
   ],
   "source": [
    "plot_calibration_curve(y_test, preds)\n",
    "plt.show()\n",
    "print('Калибровочная гривая сильно отличается от диагональной, имеет пилообразный вид.')"
   ]
  },
  {
   "cell_type": "markdown",
   "metadata": {},
   "source": [
    "Попробуем откалибровать вероятности. Грубо говоря, это процедура, которая для каждого отрезка $[a_i, b_i]$ строит преобразование, которое корректирует вероятности в нем, приводя тем самым калибровочную кривую к диагональной форме.\n",
    "\n",
    "Воспользуйтесь классом sklearn.calibration.CalibratedClassifierCV для калибровки вероятностей на обучении, и постройте с его помощью предсказания для тестовой выборки. Нарисуйте для них калибровочную кривую. Улучшилась ли она?"
   ]
  },
  {
   "cell_type": "code",
   "execution_count": 35,
   "metadata": {
    "collapsed": false
   },
   "outputs": [
    {
     "data": {
      "image/png": "[encoded data removed]",
      "text/plain": [
       "<matplotlib.figure.Figure at 0x10a13cc18>"
      ]
     },
     "metadata": {},
     "output_type": "display_data"
    },
    {
     "name": "stdout",
     "output_type": "stream",
     "text": [
      "Калибровочная кривая улучшилась\n"
     ]
    }
   ],
   "source": [
    "from sklearn.calibration import CalibratedClassifierCV\n",
    "clf = CalibratedClassifierCV(base_estimator=SGDClassifier(loss='hinge'))\n",
    "clf.fit(X, y_train)\n",
    "preds = clf.predict_proba(X_test)[:, 1]\n",
    "plot_calibration_curve(y_test, preds)\n",
    "plt.show()\n",
    "print('Калибровочная кривая улучшилась')"
   ]
  },
  {
   "cell_type": "markdown",
   "metadata": {},
   "source": [
    "#### Задание 6\n",
    "Здесь вы можете вставить вашу любимую картинку про Австралию."
   ]
  },
  {
   "cell_type": "markdown",
   "metadata": {},
   "source": [
    "У меня сейчас нет интернета на ноутбуке — не могу найти картинку."
   ]
  },
  {
   "cell_type": "markdown",
   "metadata": {},
   "source": [
    "## Часть 2. Градиентный спуск своими руками\n",
    "**(опциональная часть, за правильное выполнение к оценке добавляется 3 балла)**"
   ]
  },
  {
   "cell_type": "markdown",
   "metadata": {},
   "source": [
    "В этой части вам предстоит самостоятельно реализовать градиентный спуск для логистической функции потерь — то есть, по сути, собственными руками обучить логистическую регрессию. Будем использовать данные из предыдущей части."
   ]
  },
  {
   "cell_type": "markdown",
   "metadata": {},
   "source": [
    "Добавьте к обучающей и тестовой выборкам единичный признак. Переведите значения целевого вектора в множество $\\{-1, +1\\}$."
   ]
  },
  {
   "cell_type": "code",
   "execution_count": 36,
   "metadata": {
    "collapsed": true
   },
   "outputs": [],
   "source": [
    "X = np.hstack((X, np.ones((X.shape[0], 1))))\n",
    "X_test = np.hstack((X_test, np.ones((X_test.shape[0], 1))))\n",
    "y_train[y_train == 0] = -1\n",
    "y_test[y_test == 0] = -1"
   ]
  },
  {
   "cell_type": "markdown",
   "metadata": {},
   "source": [
    "Для начала реализуйте функции, которые вычисляют функционал, его градиент, а также прогнозы модели."
   ]
  },
  {
   "cell_type": "code",
   "execution_count": 37,
   "metadata": {
    "collapsed": true
   },
   "outputs": [],
   "source": [
    "def sigmoid(arr):\n",
    "    return 1 / (1 + np.exp(-arr))\n",
    "# возвращает вектор предсказанных вероятностей для выборки X\n",
    "def make_pred(X, w):\n",
    "    pred = sigmoid(X.dot(w))\n",
    "    return np.hstack((1 - pred, pred))"
   ]
  },
  {
   "cell_type": "code",
   "execution_count": 38,
   "metadata": {
    "collapsed": false
   },
   "outputs": [],
   "source": [
    "# возвращает значение логистического функционала для выборки (X, y) и вектора весов w\n",
    "def get_func(w, X, y):\n",
    "    Z = -y[:, None] * X\n",
    "    return np.sum(np.log(1 + np.exp(Z.dot(w))), axis=0) / y.size"
   ]
  },
  {
   "cell_type": "code",
   "execution_count": 39,
   "metadata": {
    "collapsed": true
   },
   "outputs": [],
   "source": [
    "# возвращает градиент логистического функционала для выборки (X, y) и вектора весов w\n",
    "def get_grad(w, X, y):\n",
    "    Z = -y[:, None] * X\n",
    "    anc_var = np.exp(-Z.dot(w))\n",
    "    return np.sum(Z / (1 + anc_var), axis=0).reshape(w.shape) / y.size"
   ]
  },
  {
   "cell_type": "markdown",
   "metadata": {},
   "source": [
    "Теперь реализуйте градиентный спуск (не стохастический). Функция должна возвращать вектор весов и список значений функционала на каждой итерации. В градиентном спуске должно выполняться не более max_iter итераций."
   ]
  },
  {
   "cell_type": "code",
   "execution_count": 40,
   "metadata": {
    "collapsed": false
   },
   "outputs": [],
   "source": [
    "from IPython.display import clear_output\n",
    "\n",
    "def _linesearch_armiho(fun, point, gradient, step_0=1.0, theta=0.5, eps=1e-2,\n",
    "                       direction=None, point_loss=None, maxstep=np.inf):\n",
    "    \"\"\"\n",
    "    Одномерный поиск для выбора шага, основанный на правиле Армихо.\n",
    "    fun — оптимизируемая функция\n",
    "    point — текущее приближение метода\n",
    "    direction — текущее направление оптимизации. По умолчанию равно антиградиенту.\n",
    "    gradient — градиент в текущей точке\n",
    "    step_0 — начальная длина шага\n",
    "    theta, eps — параметры правила Армихо\n",
    "    point_loss — значение оптимизируемой функции в текущем приближении метода\n",
    "    Возвращает кортеж (new point, step) — новое приближение и длину шага\n",
    "    \"\"\"\n",
    "    if point_loss is None:\n",
    "        current_loss = fun(point)\n",
    "    else:\n",
    "        current_loss = point_loss\n",
    "    if len(gradient.shape) == 2:\n",
    "        gradient = gradient[:, 0]\n",
    "    if direction is None:\n",
    "        direction = -gradient\n",
    "\n",
    "    step = step_0/theta\n",
    "    new_point = point + step * direction.reshape(point.shape)\n",
    "    while fun(new_point) > current_loss + eps * step * direction.dot(gradient):\n",
    "        step *= theta\n",
    "        new_point = point + step * direction.reshape(point.shape)\n",
    "    return new_point, step\n",
    "\n",
    "def grad_descent(X, y, step_size, max_iter):\n",
    "    if step_size == 'armiho':\n",
    "        step = 1.0\n",
    "    np.random.seed(2)\n",
    "#     w = np.random.normal(size=(X.shape[1], 1))/1000\n",
    "    w = np.zeros((X.shape[1], 1))\n",
    "    def loss_fun(point):\n",
    "        return get_func(point, X, y)\n",
    "    def grad_fun(point):\n",
    "        return get_grad(point, X, y)\n",
    "    loss_lst = []\n",
    "    for i in range(max_iter):\n",
    "        clear_output(wait=True)\n",
    "        print('step size', step_size)\n",
    "        print('Iteration ', i+1, '/', max_iter)\n",
    "        loss = loss_fun(w)\n",
    "        grad = grad_fun(w)\n",
    "        loss_lst.append(loss)\n",
    "        if step_size == 'armiho':\n",
    "            w, step = _linesearch_armiho(fun=loss_fun, gradient=grad, point_loss=loss, point=w, step_0=step)\n",
    "        else:\n",
    "            w -= step_size * grad\n",
    "    return w, loss_lst\n",
    "    "
   ]
  },
  {
   "cell_type": "markdown",
   "metadata": {},
   "source": [
    "Запустите градиентный спуск для значений размера шага из набора [0.001, 1, 10]. Нарисуйте кривые зависимости значения функционала от номера итерации. Проанализируйте их. Вычислите AUC-ROC на тестовой выборке для лучшего из обученных вариантов."
   ]
  },
  {
   "cell_type": "code",
   "execution_count": 41,
   "metadata": {
    "collapsed": false
   },
   "outputs": [
    {
     "name": "stdout",
     "output_type": "stream",
     "text": [
      "step size armiho\n",
      "Iteration  20 / 20\n"
     ]
    },
    {
     "data": {
      "image/png": "[encoded data removed]",
      "text/plain": [
       "<matplotlib.figure.Figure at 0x10e2d1b38>"
      ]
     },
     "metadata": {},
     "output_type": "display_data"
    }
   ],
   "source": [
    "step_lst = [0.001, 1.0, 10.0, 'armiho']\n",
    "color_lst = ['-r', '-b', '-g', '-y']\n",
    "loss_lists = []\n",
    "for step_size in step_lst:\n",
    "    w, loss_lst = grad_descent(X, y_train, step_size, max_iter=20)\n",
    "    loss_lists.append(loss_lst)\n",
    "\n",
    "fun_min = loss_lists[0][0]\n",
    "for loss_list in loss_lists:\n",
    "    if min(loss_list) < fun_min:\n",
    "        fun_min = min(loss_list)\n",
    "for loss_list, clr, step_size in list(zip(loss_lists, color_lst, step_lst)):\n",
    "    plt.semilogy(range(1, len(loss_lst) + 1), [loss - fun_min for loss in loss_list], clr, label=str(step_size))\n",
    "plt.legend()\n",
    "plt.xlabel('Iteration number')\n",
    "plt.ylabel('Function discrepancy')\n",
    "plt.show()"
   ]
  },
  {
   "cell_type": "code",
   "execution_count": 42,
   "metadata": {
    "collapsed": false
   },
   "outputs": [
    {
     "name": "stdout",
     "output_type": "stream",
     "text": [
      "step size armiho\n",
      "Iteration  20 / 20\n",
      "ROC-AUC: 0.856175389725\n"
     ]
    }
   ],
   "source": [
    "w, loss_lst = grad_descent(X, y_train, 'armiho', max_iter=20)\n",
    "predicted = make_pred(X_test, w)[:, 1]\n",
    "print('ROC-AUC:', roc_auc_score(y_test, predicted))"
   ]
  },
  {
   "cell_type": "markdown",
   "metadata": {},
   "source": [
    "Теперь реализуйте стохастический градиентный спуск. Функция должна возвращать вектор весов и список значений функционала на каждой итерации. В стохастическом градиентном спуске должно выполняться не более max_iter итераций."
   ]
  },
  {
   "cell_type": "code",
   "execution_count": 43,
   "metadata": {
    "collapsed": true
   },
   "outputs": [],
   "source": [
    "def stoch_grad_approximation(w, X, y, i):\n",
    "    Z = -y[i, None] * X[i, :]\n",
    "    anc_var = np.exp(-Z.dot(w))\n",
    "    return (Z / (1 + anc_var)).reshape(w.shape)\n",
    "\n",
    "def sgd(X, y, step_size, max_iter):\n",
    "    update_rate = 5\n",
    "    step0 = step_size\n",
    "    gamma = 0.5\n",
    "    step = step0\n",
    "    w = np.zeros((X.shape[1], 1))\n",
    "    loss_lst = []\n",
    "\n",
    "    for i in range(max_iter):\n",
    "        clear_output(wait=True)\n",
    "        print('Iteration ', i+1, '/', max_iter)\n",
    "        loss_lst.append(get_func(w, X, y))\n",
    "        index = np.random.randint(0, y.size - 1)\n",
    "        gradient = stoch_grad_approximation(w, X, y, index)\n",
    "        w = w - step * gradient\n",
    "        if not (i % y.size) and i != 0:\n",
    "            step = step0 / np.power(iteration_counter + 1, gamma)\n",
    "    return w, loss_lst"
   ]
  },
  {
   "cell_type": "markdown",
   "metadata": {},
   "source": [
    "Подберите размер шага, при котором SGD будет сходиться. Нарисуйте график сходимости. Вычислите AUC-ROC на тестовой выборке."
   ]
  },
  {
   "cell_type": "code",
   "execution_count": 44,
   "metadata": {
    "collapsed": false
   },
   "outputs": [
    {
     "name": "stdout",
     "output_type": "stream",
     "text": [
      "Iteration  100 / 100\n"
     ]
    },
    {
     "data": {
      "image/png": "[encoded data removed]",
      "text/plain": [
       "<matplotlib.figure.Figure at 0x10cb28320>"
      ]
     },
     "metadata": {},
     "output_type": "display_data"
    },
    {
     "name": "stdout",
     "output_type": "stream",
     "text": [
      "ROC-AUC: 0.728851134442\n"
     ]
    }
   ],
   "source": [
    "w, loss_lst = sgd(X, y_train, step_size=1e-2, max_iter=100)\n",
    "plt.semilogy(range(len(loss_lst)), [loss - fun_min for loss in loss_lst], label='SGD')\n",
    "plt.legend()\n",
    "plt.xlabel('Iteration number')\n",
    "plt.ylabel('Function discrepancy')\n",
    "plt.show()\n",
    "\n",
    "predicted = make_pred(X_test, w)[:, 1]\n",
    "print('ROC-AUC:', roc_auc_score(y_test, predicted))"
   ]
  },
  {
   "cell_type": "markdown",
   "metadata": {},
   "source": [
    "А теперь самое сложное: заново сформируйте выборку с помощью transform_data, но теперь не масштабируйте вещественные признаки. Запустите на этой выборке градиентный спуск. Что вы наблюдаете? Удается ли достичь такого же качества, как и при использовании масштабирования?"
   ]
  },
  {
   "cell_type": "code",
   "execution_count": 45,
   "metadata": {
    "collapsed": false
   },
   "outputs": [
    {
     "name": "stdout",
     "output_type": "stream",
     "text": [
      "step size armiho\n",
      "Iteration  100 / 100\n",
      "ROC-AUC: 0.512250178675\n",
      "Несмотря на то, что методу было дано большее количество итераций, \n",
      "чем в случае со шкалированными признаками, результат оказался хуже.\n"
     ]
    }
   ],
   "source": [
    "from sklearn.preprocessing import StandardScaler\n",
    "scaler = StandardScaler()\n",
    "transformer = DictVectorizer()\n",
    "X_noscale, scaler, transformer = transform_data(data_train, scaler, transformer, False, scale=False)\n",
    "X_test_noscale, _, _ = transform_data(data_test, scaler, transformer, True, scale=False)\n",
    "w, loss_lst = grad_descent(X_noscale, y_train, 'armiho', max_iter=100)\n",
    "predicted = make_pred(X_test_noscale, w)[:, 1]\n",
    "print('ROC-AUC:', roc_auc_score(y_test, predicted))\n",
    "print('Несмотря на то, что методу было дано большее количество итераций, ')\n",
    "print('чем в случае со шкалированными признаками, результат оказался хуже.')"
   ]
  },
  {
   "cell_type": "markdown",
   "metadata": {},
   "source": [
    "Здесь вы можете поделиться своими мыслями по поводу этой части."
   ]
  },
  {
   "cell_type": "markdown",
   "metadata": {},
   "source": [
    "Я дополнительно реализовал градиентный спуск с правилом Армихо для выбора длины шага и использовал его в качестве лучшего варианта."
   ]
  },
  {
   "cell_type": "markdown",
   "metadata": {},
   "source": [
    "## Часть 3. Линейная регрессия на простом примере"
   ]
  },
  {
   "cell_type": "markdown",
   "metadata": {},
   "source": [
    "В этой части мы очень кратко разберемся с линейной регрессией и измерением качества ее прогнозов. Будем использовать датасет diabetes."
   ]
  },
  {
   "cell_type": "code",
   "execution_count": 46,
   "metadata": {
    "collapsed": true
   },
   "outputs": [],
   "source": [
    "from sklearn import datasets\n",
    "from sklearn.cross_validation import train_test_split\n",
    "data = datasets.load_diabetes()\n",
    "X, X_test, y, y_test = train_test_split(data.data, data.target, train_size=0.7, random_state=241)"
   ]
  },
  {
   "cell_type": "markdown",
   "metadata": {},
   "source": [
    "Обучите линейную регрессию с L2-регуляризатором, подобрав лучшее значение параметра регуляризации на тестовой выборке. Используйте MSE в качестве тестовой выборки. При каком значении этого параметра достигается наилучшее качество?"
   ]
  },
  {
   "cell_type": "code",
   "execution_count": 47,
   "metadata": {
    "collapsed": false
   },
   "outputs": [
    {
     "name": "stdout",
     "output_type": "stream",
     "text": [
      "Наименьшее MSE 3096.03015101 достигается при alpha = 0.1\n"
     ]
    }
   ],
   "source": [
    "from sklearn.linear_model import Ridge\n",
    "alpha_grid = [0.001, 0.01, 0.1, 1.0, 10.0, 100.0]\n",
    "mse_lst = []\n",
    "for alpha in alpha_grid:\n",
    "    linreg = Ridge(alpha)\n",
    "    linreg.fit(X, y)\n",
    "    preds = linreg.predict(X_test)\n",
    "    mse_lst.append(np.linalg.norm(preds - y_test)**2 / y_test.size)\n",
    "print('Наименьшее MSE', np.min(mse_lst), 'достигается при alpha =', alpha_grid[np.argmin(mse_lst)])"
   ]
  },
  {
   "cell_type": "markdown",
   "metadata": {},
   "source": [
    "Вычислите для лучшей из моделей RMSE и коэффициент детерминации (r2_score) на тестовой выборке. Что вы можете сказать о значении коэффицинта детерминации? Насколько данная модель близка к оптимальной?"
   ]
  },
  {
   "cell_type": "code",
   "execution_count": 48,
   "metadata": {
    "collapsed": false
   },
   "outputs": [
    {
     "name": "stdout",
     "output_type": "stream",
     "text": [
      "RMSE: 55.6419819113\n",
      "Коэффициент детерминации: 0.417024184822\n",
      "Полученный коэффициент детерминации показывает, что модель\n",
      "далека от хорошей, и ее предсказания лишь вдвое лучше, чем \n",
      "модель, предсказывающая среднее значение по выборке для любого объекта.\n"
     ]
    }
   ],
   "source": [
    "from sklearn.metrics import r2_score\n",
    "alpha = alpha_grid[np.argmin(mse_lst)]\n",
    "linreg = Ridge(alpha)\n",
    "linreg.fit(X, y)\n",
    "preds = linreg.predict(X_test)\n",
    "print('RMSE:', np.linalg.norm(preds - y_test) / np.sqrt(y_test.size))\n",
    "print('Коэффициент детерминации:', r2_score(y_test, preds))\n",
    "print('Полученный коэффициент детерминации показывает, что модель')\n",
    "print('далека от хорошей, и ее предсказания лишь вдвое лучше, чем ')\n",
    "print('модель, предсказывающая среднее значение по выборке для любого объекта.')"
   ]
  }
 ],
 "metadata": {
  "kernelspec": {
   "display_name": "Python 3",
   "language": "python",
   "name": "python3"
  },
  "language_info": {
   "codemirror_mode": {
    "name": "ipython",
    "version": 3
   },
   "file_extension": ".py",
   "mimetype": "text/x-python",
   "name": "python",
   "nbconvert_exporter": "python",
   "pygments_lexer": "ipython3",
   "version": "3.4.3"
  }
 },
 "nbformat": 4,
 "nbformat_minor": 0
}
