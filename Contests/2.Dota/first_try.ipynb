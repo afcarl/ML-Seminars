{
 "cells": [
  {
   "cell_type": "markdown",
   "metadata": {},
   "source": [
    "#Первая версия кода для контеста"
   ]
  },
  {
   "cell_type": "code",
   "execution_count": 113,
   "metadata": {
    "collapsed": true
   },
   "outputs": [],
   "source": [
    "import pandas\n",
    "import numpy as np\n",
    "import matplotlib.pyplot as plt\n",
    "import xgboost as xgb\n",
    "\n",
    "from sklearn.metrics import roc_auc_score\n",
    "from sklearn.feature_extraction import DictVectorizer\n",
    "from sklearn.preprocessing import StandardScaler\n",
    "from sklearn.linear_model import LogisticRegression\n",
    "from sklearn.ensemble import RandomForestClassifier"
   ]
  },
  {
   "cell_type": "code",
   "execution_count": 114,
   "metadata": {
    "collapsed": true
   },
   "outputs": [],
   "source": [
    "features = pandas.read_csv('data/features.csv', index_col='match_id')\n",
    "features_test = pandas.read_csv('data/features_test.csv', index_col='match_id')"
   ]
  },
  {
   "cell_type": "code",
   "execution_count": 115,
   "metadata": {
    "collapsed": false
   },
   "outputs": [],
   "source": [
    "matches = features.copy().fillna(0)\n",
    "test_matches = features_test.copy().fillna(0)\n",
    "# matches = features.copy().fillna(0)\n",
    "# train_size = int(matches.shape[0] * 2 / 3)\n",
    "# test_matches = matches[train_size:]\n",
    "# matches = matches[:train_size]\n",
    "# y_test = test_matches['radiant_win']\n",
    "# del test_matches['duration']\n",
    "# del test_matches['radiant_win']\n",
    "# del test_matches['tower_status_dire']\n",
    "# del test_matches['tower_status_radiant']\n",
    "# del test_matches['barracks_status_radiant']\n",
    "# del test_matches['barracks_status_dire']"
   ]
  },
  {
   "cell_type": "code",
   "execution_count": 116,
   "metadata": {
    "collapsed": true
   },
   "outputs": [],
   "source": [
    "fields = ['level', 'gold', 'xp', 'lh', 'kills', 'deaths', 'items']\n",
    "teams = ['r', 'd']\n",
    "players = range(1, 6)\n",
    "for field in fields:\n",
    "    for team in teams:\n",
    "        name = team + '_' + field\n",
    "        matches[name] = 0\n",
    "        test_matches[name] = 0\n",
    "        for player in players:\n",
    "            matches[name] += matches[team + str(player) + '_' + field] \n",
    "            test_matches[name] += test_matches[team + str(player) + '_' + field] \n",
    "            del matches[team + str(player) + '_' + field] \n",
    "            del test_matches[team + str(player) + '_' + field] "
   ]
  },
  {
   "cell_type": "code",
   "execution_count": 117,
   "metadata": {
    "collapsed": true
   },
   "outputs": [],
   "source": [
    "def preprocess(data, cat_cols, other_cols, train_size=None):\n",
    "    if train_size is None:\n",
    "        train_size = int(2 * data.shape[0] / 3)\n",
    "    if train_size == 0:\n",
    "        transformer = DictVectorizer(sparse=False)\n",
    "        data_arr = transformer.fit_transform(data[cat_cols].astype(str).T.to_dict().values())\n",
    "        train = np.hstack((data_arr, data[other_cols]))\n",
    "#         train = data\n",
    "#         print(list(data.columns))\n",
    "        if 'radiant_win' in list(data.columns):\n",
    "            y_train = np.array(data['radiant_win'])\n",
    "            del data['duration']\n",
    "            del data['radiant_win']\n",
    "            del data['tower_status_dire']\n",
    "            del data['tower_status_radiant']\n",
    "            del data['barracks_status_radiant']\n",
    "            del data['barracks_status_dire']\n",
    "            return train, y_train\n",
    "        return train\n",
    "    \n",
    "    y_train = np.array(data['radiant_win'])\n",
    "    y_test = y_train[train_size:]\n",
    "    y_train = y_train[:train_size]\n",
    "    del data['duration']\n",
    "    del data['radiant_win']\n",
    "    del data['tower_status_dire']\n",
    "    del data['tower_status_radiant']\n",
    "    del data['barracks_status_radiant']\n",
    "    del data['barracks_status_dire']\n",
    "    transformer = DictVectorizer(sparse=False)\n",
    "    data_arr = transformer.fit_transform(data[cat_cols].astype(str).T.to_dict().values())\n",
    "    data = np.hstack((data_arr, data[other_cols]))\n",
    "    test = data[train_size:, :]\n",
    "    train = data[:train_size, :]\n",
    "    return train, y_train, test, y_test"
   ]
  },
  {
   "cell_type": "markdown",
   "metadata": {},
   "source": [
    "##Логистическая регрессия на выбранных героях"
   ]
  },
  {
   "cell_type": "code",
   "execution_count": 118,
   "metadata": {
    "collapsed": true
   },
   "outputs": [],
   "source": [
    "N = 113\n",
    "data = matches\n",
    "X_pick = np.zeros((data.shape[0], N))\n",
    "for i, match_id in enumerate(data.index):\n",
    "    for p in range(5):\n",
    "        X_pick[i, data.ix[match_id, 'r%d_hero' % (p+1)]-1] = 1\n",
    "        X_pick[i, data.ix[match_id, 'd%d_hero' % (p+1)]-1] = -1\n",
    "for i, match_id in enumerate(data.index):\n",
    "    for p in range(5):\n",
    "        X_pick[i, data.ix[match_id, 'r%d_hero' % (p+1)]-1] = 1\n",
    "        X_pick[i, data.ix[match_id, 'd%d_hero' % (p+1)]-1] = -1"
   ]
  },
  {
   "cell_type": "code",
   "execution_count": 119,
   "metadata": {
    "collapsed": true
   },
   "outputs": [],
   "source": [
    "train = X_pick\n",
    "y_train = matches['radiant_win']"
   ]
  },
  {
   "cell_type": "code",
   "execution_count": 120,
   "metadata": {
    "collapsed": true
   },
   "outputs": [],
   "source": [
    "N = 113\n",
    "data = test_matches\n",
    "X_pick = np.zeros((data.shape[0], N))\n",
    "for i, match_id in enumerate(data.index):\n",
    "    for p in range(5):\n",
    "        X_pick[i, data.ix[match_id, 'r%d_hero' % (p+1)]-1] = 1\n",
    "        X_pick[i, data.ix[match_id, 'd%d_hero' % (p+1)]-1] = -1\n",
    "for i, match_id in enumerate(data.index):\n",
    "    for p in range(5):\n",
    "        X_pick[i, data.ix[match_id, 'r%d_hero' % (p+1)]-1] = 1\n",
    "        X_pick[i, data.ix[match_id, 'd%d_hero' % (p+1)]-1] = -1"
   ]
  },
  {
   "cell_type": "code",
   "execution_count": 121,
   "metadata": {
    "collapsed": true
   },
   "outputs": [],
   "source": [
    "test = X_pick"
   ]
  },
  {
   "cell_type": "code",
   "execution_count": 122,
   "metadata": {
    "collapsed": true
   },
   "outputs": [],
   "source": [
    "logreg = LogisticRegression()\n",
    "logreg.fit(train, y_train)\n",
    "logreg_train_preds = logreg.predict_proba(train)[:, 1]\n",
    "logreg_test_preds = logreg.predict_proba(test)[:, 1]"
   ]
  },
  {
   "cell_type": "markdown",
   "metadata": {},
   "source": [
    "##xgboost"
   ]
  },
  {
   "cell_type": "code",
   "execution_count": 123,
   "metadata": {
    "collapsed": true
   },
   "outputs": [],
   "source": [
    "matches['log_heroes'] = logreg_train_preds\n",
    "test_matches['log_heroes'] = logreg_test_preds"
   ]
  },
  {
   "cell_type": "code",
   "execution_count": 124,
   "metadata": {
    "collapsed": false
   },
   "outputs": [],
   "source": [
    "bad_columns = ['start_time', 'duration', 'radiant_win', 'tower_status_dire', 'tower_status_radiant',\n",
    "               'barracks_status_radiant', 'barracks_status_dire', 'first_blood_player1', 'first_blood_player2']\n",
    "categorical_columns = ['lobby_type']\n",
    "for i in range(1, 6):\n",
    "    bad_columns.append('r'+str(i)+'_hero')\n",
    "    bad_columns.append('d'+str(i)+'_hero')\n",
    "other_cols = [col for col in matches.columns if not (col in categorical_columns)\n",
    "             and not (col in bad_columns)]"
   ]
  },
  {
   "cell_type": "code",
   "execution_count": 125,
   "metadata": {
    "collapsed": false
   },
   "outputs": [
    {
     "name": "stdout",
     "output_type": "stream",
     "text": [
      "['start_time', 'lobby_type', 'r1_hero', 'r2_hero', 'r3_hero', 'r4_hero', 'r5_hero', 'd1_hero', 'd2_hero', 'd3_hero', 'd4_hero', 'd5_hero', 'first_blood_time', 'first_blood_team', 'first_blood_player1', 'first_blood_player2', 'radiant_bottle_time', 'radiant_courier_time', 'radiant_flying_courier_time', 'radiant_tpscroll_count', 'radiant_boots_count', 'radiant_ward_observer_count', 'radiant_ward_sentry_count', 'radiant_first_ward_time', 'dire_bottle_time', 'dire_courier_time', 'dire_flying_courier_time', 'dire_tpscroll_count', 'dire_boots_count', 'dire_ward_observer_count', 'dire_ward_sentry_count', 'dire_first_ward_time', 'duration', 'radiant_win', 'tower_status_radiant', 'tower_status_dire', 'barracks_status_radiant', 'barracks_status_dire', 'r_level', 'd_level', 'r_gold', 'd_gold', 'r_xp', 'd_xp', 'r_lh', 'd_lh', 'r_kills', 'd_kills', 'r_deaths', 'd_deaths', 'r_items', 'd_items', 'log_heroes']\n"
     ]
    }
   ],
   "source": [
    "print(list(matches.columns))"
   ]
  },
  {
   "cell_type": "code",
   "execution_count": 126,
   "metadata": {
    "collapsed": false
   },
   "outputs": [],
   "source": [
    "train, y_train = preprocess(matches, categorical_columns, other_cols, train_size=0)\n",
    "test = preprocess(test_matches, categorical_columns, other_cols, train_size=0)"
   ]
  },
  {
   "cell_type": "code",
   "execution_count": 127,
   "metadata": {
    "collapsed": false
   },
   "outputs": [
    {
     "data": {
      "text/plain": [
       "(97230, 36)"
      ]
     },
     "execution_count": 127,
     "metadata": {},
     "output_type": "execute_result"
    }
   ],
   "source": [
    "train.shape"
   ]
  },
  {
   "cell_type": "code",
   "execution_count": 128,
   "metadata": {
    "collapsed": false
   },
   "outputs": [
    {
     "data": {
      "text/plain": [
       "(17177, 36)"
      ]
     },
     "execution_count": 128,
     "metadata": {},
     "output_type": "execute_result"
    }
   ],
   "source": [
    "test.shape"
   ]
  },
  {
   "cell_type": "code",
   "execution_count": 129,
   "metadata": {
    "collapsed": false
   },
   "outputs": [],
   "source": [
    "dtrain = xgb.DMatrix(train, label=y_train)\n",
    "dtest = xgb.DMatrix(test)"
   ]
  },
  {
   "cell_type": "code",
   "execution_count": 130,
   "metadata": {
    "collapsed": true
   },
   "outputs": [],
   "source": [
    "param = {'bst:max_depth':3, 'bst:eta':1, 'silent':1, 'objective':'binary:logistic' }\n",
    "param['nthread'] = 4\n",
    "param['eval_metric'] = 'auc'\n",
    "evallist  = [(dtrain,'train')]"
   ]
  },
  {
   "cell_type": "code",
   "execution_count": 131,
   "metadata": {
    "collapsed": true
   },
   "outputs": [],
   "source": [
    "num_round = 10\n",
    "bst = xgb.train(param, dtrain, num_round)"
   ]
  },
  {
   "cell_type": "code",
   "execution_count": 132,
   "metadata": {
    "collapsed": false
   },
   "outputs": [],
   "source": [
    "boost_preds = bst.predict(dtest,ntree_limit=bst.best_ntree_limit)"
   ]
  },
  {
   "cell_type": "markdown",
   "metadata": {},
   "source": [
    "##Random Forest"
   ]
  },
  {
   "cell_type": "code",
   "execution_count": 133,
   "metadata": {
    "collapsed": false
   },
   "outputs": [],
   "source": [
    "forest = RandomForestClassifier(n_estimators=100)\n",
    "forest.fit(train, y_train)\n",
    "forest_preds = forest.predict_proba(test)[:, 1]\n"
   ]
  },
  {
   "cell_type": "code",
   "execution_count": 134,
   "metadata": {
    "collapsed": true
   },
   "outputs": [],
   "source": [
    "preds = 0.5 * (boost_preds + forest_preds)"
   ]
  },
  {
   "cell_type": "code",
   "execution_count": 135,
   "metadata": {
    "collapsed": true
   },
   "outputs": [],
   "source": [
    "test_matches['radiant_win'] = preds"
   ]
  },
  {
   "cell_type": "code",
   "execution_count": 138,
   "metadata": {
    "collapsed": false
   },
   "outputs": [],
   "source": [
    "final = test_matches[['radiant_win']]"
   ]
  },
  {
   "cell_type": "code",
   "execution_count": 140,
   "metadata": {
    "collapsed": false
   },
   "outputs": [],
   "source": [
    "final.to_csv('answer.csv')"
   ]
  },
  {
   "cell_type": "code",
   "execution_count": null,
   "metadata": {
    "collapsed": true
   },
   "outputs": [],
   "source": []
  }
 ],
 "metadata": {
  "kernelspec": {
   "display_name": "Python 3",
   "language": "python",
   "name": "python3"
  },
  "language_info": {
   "codemirror_mode": {
    "name": "ipython",
    "version": 3
   },
   "file_extension": ".py",
   "mimetype": "text/x-python",
   "name": "python",
   "nbconvert_exporter": "python",
   "pygments_lexer": "ipython3",
   "version": "3.4.3"
  }
 },
 "nbformat": 4,
 "nbformat_minor": 0
}
